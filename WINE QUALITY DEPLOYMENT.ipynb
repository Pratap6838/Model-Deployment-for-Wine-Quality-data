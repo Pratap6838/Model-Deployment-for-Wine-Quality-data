{
 "cells": [
  {
   "cell_type": "markdown",
   "id": "d64523e8",
   "metadata": {},
   "source": [
    "# WINE QUALITY DEPLOYMENT"
   ]
  },
  {
   "cell_type": "code",
   "execution_count": 1,
   "id": "9e80798d",
   "metadata": {},
   "outputs": [],
   "source": [
    "import numpy as np\n",
    "import pandas as pd\n",
    "import seaborn as sns\n",
    "import matplotlib.pyplot as plt\n",
    "import warnings \n",
    "\n",
    "warnings.filterwarnings('ignore')"
   ]
  },
  {
   "cell_type": "code",
   "execution_count": 2,
   "id": "f249c468",
   "metadata": {},
   "outputs": [],
   "source": [
    "data = pd.read_csv('Data/winequality-red.csv')"
   ]
  },
  {
   "cell_type": "code",
   "execution_count": 3,
   "id": "51378765",
   "metadata": {},
   "outputs": [
    {
     "data": {
      "text/html": [
       "<div>\n",
       "<style scoped>\n",
       "    .dataframe tbody tr th:only-of-type {\n",
       "        vertical-align: middle;\n",
       "    }\n",
       "\n",
       "    .dataframe tbody tr th {\n",
       "        vertical-align: top;\n",
       "    }\n",
       "\n",
       "    .dataframe thead th {\n",
       "        text-align: right;\n",
       "    }\n",
       "</style>\n",
       "<table border=\"1\" class=\"dataframe\">\n",
       "  <thead>\n",
       "    <tr style=\"text-align: right;\">\n",
       "      <th></th>\n",
       "      <th>fixed acidity</th>\n",
       "      <th>volatile acidity</th>\n",
       "      <th>citric acid</th>\n",
       "      <th>residual sugar</th>\n",
       "      <th>chlorides</th>\n",
       "      <th>free sulfur dioxide</th>\n",
       "      <th>total sulfur dioxide</th>\n",
       "      <th>density</th>\n",
       "      <th>pH</th>\n",
       "      <th>sulphates</th>\n",
       "      <th>alcohol</th>\n",
       "      <th>quality</th>\n",
       "    </tr>\n",
       "  </thead>\n",
       "  <tbody>\n",
       "    <tr>\n",
       "      <th>0</th>\n",
       "      <td>7.4</td>\n",
       "      <td>0.700</td>\n",
       "      <td>0.00</td>\n",
       "      <td>1.9</td>\n",
       "      <td>0.076</td>\n",
       "      <td>11.0</td>\n",
       "      <td>34.0</td>\n",
       "      <td>0.99780</td>\n",
       "      <td>3.51</td>\n",
       "      <td>0.56</td>\n",
       "      <td>9.4</td>\n",
       "      <td>5</td>\n",
       "    </tr>\n",
       "    <tr>\n",
       "      <th>1</th>\n",
       "      <td>7.8</td>\n",
       "      <td>0.880</td>\n",
       "      <td>0.00</td>\n",
       "      <td>2.6</td>\n",
       "      <td>0.098</td>\n",
       "      <td>25.0</td>\n",
       "      <td>67.0</td>\n",
       "      <td>0.99680</td>\n",
       "      <td>3.20</td>\n",
       "      <td>0.68</td>\n",
       "      <td>9.8</td>\n",
       "      <td>5</td>\n",
       "    </tr>\n",
       "    <tr>\n",
       "      <th>2</th>\n",
       "      <td>7.8</td>\n",
       "      <td>0.760</td>\n",
       "      <td>0.04</td>\n",
       "      <td>2.3</td>\n",
       "      <td>0.092</td>\n",
       "      <td>15.0</td>\n",
       "      <td>54.0</td>\n",
       "      <td>0.99700</td>\n",
       "      <td>3.26</td>\n",
       "      <td>0.65</td>\n",
       "      <td>9.8</td>\n",
       "      <td>5</td>\n",
       "    </tr>\n",
       "    <tr>\n",
       "      <th>3</th>\n",
       "      <td>11.2</td>\n",
       "      <td>0.280</td>\n",
       "      <td>0.56</td>\n",
       "      <td>1.9</td>\n",
       "      <td>0.075</td>\n",
       "      <td>17.0</td>\n",
       "      <td>60.0</td>\n",
       "      <td>0.99800</td>\n",
       "      <td>3.16</td>\n",
       "      <td>0.58</td>\n",
       "      <td>9.8</td>\n",
       "      <td>6</td>\n",
       "    </tr>\n",
       "    <tr>\n",
       "      <th>4</th>\n",
       "      <td>7.4</td>\n",
       "      <td>0.700</td>\n",
       "      <td>0.00</td>\n",
       "      <td>1.9</td>\n",
       "      <td>0.076</td>\n",
       "      <td>11.0</td>\n",
       "      <td>34.0</td>\n",
       "      <td>0.99780</td>\n",
       "      <td>3.51</td>\n",
       "      <td>0.56</td>\n",
       "      <td>9.4</td>\n",
       "      <td>5</td>\n",
       "    </tr>\n",
       "    <tr>\n",
       "      <th>...</th>\n",
       "      <td>...</td>\n",
       "      <td>...</td>\n",
       "      <td>...</td>\n",
       "      <td>...</td>\n",
       "      <td>...</td>\n",
       "      <td>...</td>\n",
       "      <td>...</td>\n",
       "      <td>...</td>\n",
       "      <td>...</td>\n",
       "      <td>...</td>\n",
       "      <td>...</td>\n",
       "      <td>...</td>\n",
       "    </tr>\n",
       "    <tr>\n",
       "      <th>1594</th>\n",
       "      <td>6.2</td>\n",
       "      <td>0.600</td>\n",
       "      <td>0.08</td>\n",
       "      <td>2.0</td>\n",
       "      <td>0.090</td>\n",
       "      <td>32.0</td>\n",
       "      <td>44.0</td>\n",
       "      <td>0.99490</td>\n",
       "      <td>3.45</td>\n",
       "      <td>0.58</td>\n",
       "      <td>10.5</td>\n",
       "      <td>5</td>\n",
       "    </tr>\n",
       "    <tr>\n",
       "      <th>1595</th>\n",
       "      <td>5.9</td>\n",
       "      <td>0.550</td>\n",
       "      <td>0.10</td>\n",
       "      <td>2.2</td>\n",
       "      <td>0.062</td>\n",
       "      <td>39.0</td>\n",
       "      <td>51.0</td>\n",
       "      <td>0.99512</td>\n",
       "      <td>3.52</td>\n",
       "      <td>0.76</td>\n",
       "      <td>11.2</td>\n",
       "      <td>6</td>\n",
       "    </tr>\n",
       "    <tr>\n",
       "      <th>1596</th>\n",
       "      <td>6.3</td>\n",
       "      <td>0.510</td>\n",
       "      <td>0.13</td>\n",
       "      <td>2.3</td>\n",
       "      <td>0.076</td>\n",
       "      <td>29.0</td>\n",
       "      <td>40.0</td>\n",
       "      <td>0.99574</td>\n",
       "      <td>3.42</td>\n",
       "      <td>0.75</td>\n",
       "      <td>11.0</td>\n",
       "      <td>6</td>\n",
       "    </tr>\n",
       "    <tr>\n",
       "      <th>1597</th>\n",
       "      <td>5.9</td>\n",
       "      <td>0.645</td>\n",
       "      <td>0.12</td>\n",
       "      <td>2.0</td>\n",
       "      <td>0.075</td>\n",
       "      <td>32.0</td>\n",
       "      <td>44.0</td>\n",
       "      <td>0.99547</td>\n",
       "      <td>3.57</td>\n",
       "      <td>0.71</td>\n",
       "      <td>10.2</td>\n",
       "      <td>5</td>\n",
       "    </tr>\n",
       "    <tr>\n",
       "      <th>1598</th>\n",
       "      <td>6.0</td>\n",
       "      <td>0.310</td>\n",
       "      <td>0.47</td>\n",
       "      <td>3.6</td>\n",
       "      <td>0.067</td>\n",
       "      <td>18.0</td>\n",
       "      <td>42.0</td>\n",
       "      <td>0.99549</td>\n",
       "      <td>3.39</td>\n",
       "      <td>0.66</td>\n",
       "      <td>11.0</td>\n",
       "      <td>6</td>\n",
       "    </tr>\n",
       "  </tbody>\n",
       "</table>\n",
       "<p>1599 rows × 12 columns</p>\n",
       "</div>"
      ],
      "text/plain": [
       "      fixed acidity  volatile acidity  citric acid  residual sugar  chlorides  \\\n",
       "0               7.4             0.700         0.00             1.9      0.076   \n",
       "1               7.8             0.880         0.00             2.6      0.098   \n",
       "2               7.8             0.760         0.04             2.3      0.092   \n",
       "3              11.2             0.280         0.56             1.9      0.075   \n",
       "4               7.4             0.700         0.00             1.9      0.076   \n",
       "...             ...               ...          ...             ...        ...   \n",
       "1594            6.2             0.600         0.08             2.0      0.090   \n",
       "1595            5.9             0.550         0.10             2.2      0.062   \n",
       "1596            6.3             0.510         0.13             2.3      0.076   \n",
       "1597            5.9             0.645         0.12             2.0      0.075   \n",
       "1598            6.0             0.310         0.47             3.6      0.067   \n",
       "\n",
       "      free sulfur dioxide  total sulfur dioxide  density    pH  sulphates  \\\n",
       "0                    11.0                  34.0  0.99780  3.51       0.56   \n",
       "1                    25.0                  67.0  0.99680  3.20       0.68   \n",
       "2                    15.0                  54.0  0.99700  3.26       0.65   \n",
       "3                    17.0                  60.0  0.99800  3.16       0.58   \n",
       "4                    11.0                  34.0  0.99780  3.51       0.56   \n",
       "...                   ...                   ...      ...   ...        ...   \n",
       "1594                 32.0                  44.0  0.99490  3.45       0.58   \n",
       "1595                 39.0                  51.0  0.99512  3.52       0.76   \n",
       "1596                 29.0                  40.0  0.99574  3.42       0.75   \n",
       "1597                 32.0                  44.0  0.99547  3.57       0.71   \n",
       "1598                 18.0                  42.0  0.99549  3.39       0.66   \n",
       "\n",
       "      alcohol  quality  \n",
       "0         9.4        5  \n",
       "1         9.8        5  \n",
       "2         9.8        5  \n",
       "3         9.8        6  \n",
       "4         9.4        5  \n",
       "...       ...      ...  \n",
       "1594     10.5        5  \n",
       "1595     11.2        6  \n",
       "1596     11.0        6  \n",
       "1597     10.2        5  \n",
       "1598     11.0        6  \n",
       "\n",
       "[1599 rows x 12 columns]"
      ]
     },
     "execution_count": 3,
     "metadata": {},
     "output_type": "execute_result"
    }
   ],
   "source": [
    "data"
   ]
  },
  {
   "cell_type": "code",
   "execution_count": 4,
   "id": "15d27bcb",
   "metadata": {},
   "outputs": [
    {
     "data": {
      "text/plain": [
       "8"
      ]
     },
     "execution_count": 4,
     "metadata": {},
     "output_type": "execute_result"
    }
   ],
   "source": [
    "data['quality'].max()"
   ]
  },
  {
   "cell_type": "code",
   "execution_count": 5,
   "id": "08f7e126",
   "metadata": {},
   "outputs": [
    {
     "data": {
      "text/html": [
       "<div>\n",
       "<style scoped>\n",
       "    .dataframe tbody tr th:only-of-type {\n",
       "        vertical-align: middle;\n",
       "    }\n",
       "\n",
       "    .dataframe tbody tr th {\n",
       "        vertical-align: top;\n",
       "    }\n",
       "\n",
       "    .dataframe thead th {\n",
       "        text-align: right;\n",
       "    }\n",
       "</style>\n",
       "<table border=\"1\" class=\"dataframe\">\n",
       "  <thead>\n",
       "    <tr style=\"text-align: right;\">\n",
       "      <th></th>\n",
       "      <th>fixed acidity</th>\n",
       "      <th>volatile acidity</th>\n",
       "      <th>citric acid</th>\n",
       "      <th>residual sugar</th>\n",
       "      <th>chlorides</th>\n",
       "      <th>free sulfur dioxide</th>\n",
       "      <th>total sulfur dioxide</th>\n",
       "      <th>density</th>\n",
       "      <th>pH</th>\n",
       "      <th>sulphates</th>\n",
       "      <th>alcohol</th>\n",
       "      <th>quality</th>\n",
       "    </tr>\n",
       "  </thead>\n",
       "  <tbody>\n",
       "    <tr>\n",
       "      <th>267</th>\n",
       "      <td>7.9</td>\n",
       "      <td>0.35</td>\n",
       "      <td>0.46</td>\n",
       "      <td>3.6</td>\n",
       "      <td>0.078</td>\n",
       "      <td>15.0</td>\n",
       "      <td>37.0</td>\n",
       "      <td>0.9973</td>\n",
       "      <td>3.35</td>\n",
       "      <td>0.86</td>\n",
       "      <td>12.8</td>\n",
       "      <td>8</td>\n",
       "    </tr>\n",
       "    <tr>\n",
       "      <th>278</th>\n",
       "      <td>10.3</td>\n",
       "      <td>0.32</td>\n",
       "      <td>0.45</td>\n",
       "      <td>6.4</td>\n",
       "      <td>0.073</td>\n",
       "      <td>5.0</td>\n",
       "      <td>13.0</td>\n",
       "      <td>0.9976</td>\n",
       "      <td>3.23</td>\n",
       "      <td>0.82</td>\n",
       "      <td>12.6</td>\n",
       "      <td>8</td>\n",
       "    </tr>\n",
       "    <tr>\n",
       "      <th>390</th>\n",
       "      <td>5.6</td>\n",
       "      <td>0.85</td>\n",
       "      <td>0.05</td>\n",
       "      <td>1.4</td>\n",
       "      <td>0.045</td>\n",
       "      <td>12.0</td>\n",
       "      <td>88.0</td>\n",
       "      <td>0.9924</td>\n",
       "      <td>3.56</td>\n",
       "      <td>0.82</td>\n",
       "      <td>12.9</td>\n",
       "      <td>8</td>\n",
       "    </tr>\n",
       "    <tr>\n",
       "      <th>440</th>\n",
       "      <td>12.6</td>\n",
       "      <td>0.31</td>\n",
       "      <td>0.72</td>\n",
       "      <td>2.2</td>\n",
       "      <td>0.072</td>\n",
       "      <td>6.0</td>\n",
       "      <td>29.0</td>\n",
       "      <td>0.9987</td>\n",
       "      <td>2.88</td>\n",
       "      <td>0.82</td>\n",
       "      <td>9.8</td>\n",
       "      <td>8</td>\n",
       "    </tr>\n",
       "    <tr>\n",
       "      <th>455</th>\n",
       "      <td>11.3</td>\n",
       "      <td>0.62</td>\n",
       "      <td>0.67</td>\n",
       "      <td>5.2</td>\n",
       "      <td>0.086</td>\n",
       "      <td>6.0</td>\n",
       "      <td>19.0</td>\n",
       "      <td>0.9988</td>\n",
       "      <td>3.22</td>\n",
       "      <td>0.69</td>\n",
       "      <td>13.4</td>\n",
       "      <td>8</td>\n",
       "    </tr>\n",
       "  </tbody>\n",
       "</table>\n",
       "</div>"
      ],
      "text/plain": [
       "     fixed acidity  volatile acidity  citric acid  residual sugar  chlorides  \\\n",
       "267            7.9              0.35         0.46             3.6      0.078   \n",
       "278           10.3              0.32         0.45             6.4      0.073   \n",
       "390            5.6              0.85         0.05             1.4      0.045   \n",
       "440           12.6              0.31         0.72             2.2      0.072   \n",
       "455           11.3              0.62         0.67             5.2      0.086   \n",
       "\n",
       "     free sulfur dioxide  total sulfur dioxide  density    pH  sulphates  \\\n",
       "267                 15.0                  37.0   0.9973  3.35       0.86   \n",
       "278                  5.0                  13.0   0.9976  3.23       0.82   \n",
       "390                 12.0                  88.0   0.9924  3.56       0.82   \n",
       "440                  6.0                  29.0   0.9987  2.88       0.82   \n",
       "455                  6.0                  19.0   0.9988  3.22       0.69   \n",
       "\n",
       "     alcohol  quality  \n",
       "267     12.8        8  \n",
       "278     12.6        8  \n",
       "390     12.9        8  \n",
       "440      9.8        8  \n",
       "455     13.4        8  "
      ]
     },
     "execution_count": 5,
     "metadata": {},
     "output_type": "execute_result"
    }
   ],
   "source": [
    "data[data['quality']==8].head()"
   ]
  },
  {
   "cell_type": "code",
   "execution_count": 6,
   "id": "8202e892",
   "metadata": {},
   "outputs": [
    {
     "name": "stdout",
     "output_type": "stream",
     "text": [
      "<class 'pandas.core.frame.DataFrame'>\n",
      "RangeIndex: 1599 entries, 0 to 1598\n",
      "Data columns (total 12 columns):\n",
      " #   Column                Non-Null Count  Dtype  \n",
      "---  ------                --------------  -----  \n",
      " 0   fixed acidity         1599 non-null   float64\n",
      " 1   volatile acidity      1599 non-null   float64\n",
      " 2   citric acid           1599 non-null   float64\n",
      " 3   residual sugar        1599 non-null   float64\n",
      " 4   chlorides             1599 non-null   float64\n",
      " 5   free sulfur dioxide   1599 non-null   float64\n",
      " 6   total sulfur dioxide  1599 non-null   float64\n",
      " 7   density               1599 non-null   float64\n",
      " 8   pH                    1599 non-null   float64\n",
      " 9   sulphates             1599 non-null   float64\n",
      " 10  alcohol               1599 non-null   float64\n",
      " 11  quality               1599 non-null   int64  \n",
      "dtypes: float64(11), int64(1)\n",
      "memory usage: 150.0 KB\n"
     ]
    }
   ],
   "source": [
    "data.info()"
   ]
  },
  {
   "cell_type": "code",
   "execution_count": 7,
   "id": "94f62c88",
   "metadata": {},
   "outputs": [
    {
     "data": {
      "text/html": [
       "<style type=\"text/css\">\n",
       "#T_66f6d_row0_col0, #T_66f6d_row0_col1, #T_66f6d_row0_col2, #T_66f6d_row0_col3, #T_66f6d_row0_col4, #T_66f6d_row0_col5, #T_66f6d_row0_col6, #T_66f6d_row0_col7, #T_66f6d_row0_col8, #T_66f6d_row0_col9, #T_66f6d_row0_col10, #T_66f6d_row0_col11 {\n",
       "  background-color: #ffc77f;\n",
       "  color: #000000;\n",
       "}\n",
       "#T_66f6d_row1_col0, #T_66f6d_row1_col10, #T_66f6d_row2_col5, #T_66f6d_row3_col10, #T_66f6d_row4_col10, #T_66f6d_row5_col10, #T_66f6d_row6_col0, #T_66f6d_row6_col10, #T_66f6d_row7_col11 {\n",
       "  background-color: #010100;\n",
       "  color: #f1f1f1;\n",
       "}\n",
       "#T_66f6d_row1_col1, #T_66f6d_row1_col2, #T_66f6d_row1_col3, #T_66f6d_row1_col4, #T_66f6d_row1_col7, #T_66f6d_row1_col8, #T_66f6d_row1_col9, #T_66f6d_row1_col11, #T_66f6d_row2_col0, #T_66f6d_row2_col1, #T_66f6d_row2_col2, #T_66f6d_row2_col3, #T_66f6d_row2_col4, #T_66f6d_row2_col7, #T_66f6d_row2_col8, #T_66f6d_row2_col9, #T_66f6d_row2_col10, #T_66f6d_row2_col11, #T_66f6d_row3_col0, #T_66f6d_row3_col1, #T_66f6d_row3_col2, #T_66f6d_row3_col3, #T_66f6d_row3_col4, #T_66f6d_row3_col5, #T_66f6d_row3_col6, #T_66f6d_row3_col7, #T_66f6d_row3_col8, #T_66f6d_row3_col9, #T_66f6d_row3_col11, #T_66f6d_row4_col0, #T_66f6d_row4_col1, #T_66f6d_row4_col2, #T_66f6d_row4_col3, #T_66f6d_row4_col4, #T_66f6d_row4_col5, #T_66f6d_row4_col7, #T_66f6d_row4_col8, #T_66f6d_row4_col9, #T_66f6d_row4_col11, #T_66f6d_row5_col0, #T_66f6d_row5_col1, #T_66f6d_row5_col2, #T_66f6d_row5_col3, #T_66f6d_row5_col4, #T_66f6d_row5_col7, #T_66f6d_row5_col8, #T_66f6d_row5_col9, #T_66f6d_row5_col11, #T_66f6d_row6_col1, #T_66f6d_row6_col2, #T_66f6d_row6_col3, #T_66f6d_row6_col4, #T_66f6d_row6_col7, #T_66f6d_row6_col8, #T_66f6d_row6_col9, #T_66f6d_row6_col11, #T_66f6d_row7_col1, #T_66f6d_row7_col2, #T_66f6d_row7_col4, #T_66f6d_row7_col7, #T_66f6d_row7_col8, #T_66f6d_row7_col9 {\n",
       "  background-color: #000000;\n",
       "  color: #f1f1f1;\n",
       "}\n",
       "#T_66f6d_row1_col5, #T_66f6d_row4_col6, #T_66f6d_row5_col5, #T_66f6d_row7_col0, #T_66f6d_row7_col3, #T_66f6d_row7_col10 {\n",
       "  background-color: #020201;\n",
       "  color: #f1f1f1;\n",
       "}\n",
       "#T_66f6d_row1_col6 {\n",
       "  background-color: #070503;\n",
       "  color: #f1f1f1;\n",
       "}\n",
       "#T_66f6d_row2_col6 {\n",
       "  background-color: #050302;\n",
       "  color: #f1f1f1;\n",
       "}\n",
       "#T_66f6d_row5_col6 {\n",
       "  background-color: #060402;\n",
       "  color: #f1f1f1;\n",
       "}\n",
       "#T_66f6d_row6_col5 {\n",
       "  background-color: #040201;\n",
       "  color: #f1f1f1;\n",
       "}\n",
       "#T_66f6d_row6_col6 {\n",
       "  background-color: #0a0604;\n",
       "  color: #f1f1f1;\n",
       "}\n",
       "#T_66f6d_row7_col5 {\n",
       "  background-color: #0e0905;\n",
       "  color: #f1f1f1;\n",
       "}\n",
       "#T_66f6d_row7_col6 {\n",
       "  background-color: #382316;\n",
       "  color: #f1f1f1;\n",
       "}\n",
       "</style>\n",
       "<table id=\"T_66f6d\">\n",
       "  <thead>\n",
       "    <tr>\n",
       "      <th class=\"blank level0\" >&nbsp;</th>\n",
       "      <th id=\"T_66f6d_level0_col0\" class=\"col_heading level0 col0\" >fixed acidity</th>\n",
       "      <th id=\"T_66f6d_level0_col1\" class=\"col_heading level0 col1\" >volatile acidity</th>\n",
       "      <th id=\"T_66f6d_level0_col2\" class=\"col_heading level0 col2\" >citric acid</th>\n",
       "      <th id=\"T_66f6d_level0_col3\" class=\"col_heading level0 col3\" >residual sugar</th>\n",
       "      <th id=\"T_66f6d_level0_col4\" class=\"col_heading level0 col4\" >chlorides</th>\n",
       "      <th id=\"T_66f6d_level0_col5\" class=\"col_heading level0 col5\" >free sulfur dioxide</th>\n",
       "      <th id=\"T_66f6d_level0_col6\" class=\"col_heading level0 col6\" >total sulfur dioxide</th>\n",
       "      <th id=\"T_66f6d_level0_col7\" class=\"col_heading level0 col7\" >density</th>\n",
       "      <th id=\"T_66f6d_level0_col8\" class=\"col_heading level0 col8\" >pH</th>\n",
       "      <th id=\"T_66f6d_level0_col9\" class=\"col_heading level0 col9\" >sulphates</th>\n",
       "      <th id=\"T_66f6d_level0_col10\" class=\"col_heading level0 col10\" >alcohol</th>\n",
       "      <th id=\"T_66f6d_level0_col11\" class=\"col_heading level0 col11\" >quality</th>\n",
       "    </tr>\n",
       "  </thead>\n",
       "  <tbody>\n",
       "    <tr>\n",
       "      <th id=\"T_66f6d_level0_row0\" class=\"row_heading level0 row0\" >count</th>\n",
       "      <td id=\"T_66f6d_row0_col0\" class=\"data row0 col0\" >1599.000000</td>\n",
       "      <td id=\"T_66f6d_row0_col1\" class=\"data row0 col1\" >1599.000000</td>\n",
       "      <td id=\"T_66f6d_row0_col2\" class=\"data row0 col2\" >1599.000000</td>\n",
       "      <td id=\"T_66f6d_row0_col3\" class=\"data row0 col3\" >1599.000000</td>\n",
       "      <td id=\"T_66f6d_row0_col4\" class=\"data row0 col4\" >1599.000000</td>\n",
       "      <td id=\"T_66f6d_row0_col5\" class=\"data row0 col5\" >1599.000000</td>\n",
       "      <td id=\"T_66f6d_row0_col6\" class=\"data row0 col6\" >1599.000000</td>\n",
       "      <td id=\"T_66f6d_row0_col7\" class=\"data row0 col7\" >1599.000000</td>\n",
       "      <td id=\"T_66f6d_row0_col8\" class=\"data row0 col8\" >1599.000000</td>\n",
       "      <td id=\"T_66f6d_row0_col9\" class=\"data row0 col9\" >1599.000000</td>\n",
       "      <td id=\"T_66f6d_row0_col10\" class=\"data row0 col10\" >1599.000000</td>\n",
       "      <td id=\"T_66f6d_row0_col11\" class=\"data row0 col11\" >1599.000000</td>\n",
       "    </tr>\n",
       "    <tr>\n",
       "      <th id=\"T_66f6d_level0_row1\" class=\"row_heading level0 row1\" >mean</th>\n",
       "      <td id=\"T_66f6d_row1_col0\" class=\"data row1 col0\" >8.319637</td>\n",
       "      <td id=\"T_66f6d_row1_col1\" class=\"data row1 col1\" >0.527821</td>\n",
       "      <td id=\"T_66f6d_row1_col2\" class=\"data row1 col2\" >0.270976</td>\n",
       "      <td id=\"T_66f6d_row1_col3\" class=\"data row1 col3\" >2.538806</td>\n",
       "      <td id=\"T_66f6d_row1_col4\" class=\"data row1 col4\" >0.087467</td>\n",
       "      <td id=\"T_66f6d_row1_col5\" class=\"data row1 col5\" >15.874922</td>\n",
       "      <td id=\"T_66f6d_row1_col6\" class=\"data row1 col6\" >46.467792</td>\n",
       "      <td id=\"T_66f6d_row1_col7\" class=\"data row1 col7\" >0.996747</td>\n",
       "      <td id=\"T_66f6d_row1_col8\" class=\"data row1 col8\" >3.311113</td>\n",
       "      <td id=\"T_66f6d_row1_col9\" class=\"data row1 col9\" >0.658149</td>\n",
       "      <td id=\"T_66f6d_row1_col10\" class=\"data row1 col10\" >10.422983</td>\n",
       "      <td id=\"T_66f6d_row1_col11\" class=\"data row1 col11\" >5.636023</td>\n",
       "    </tr>\n",
       "    <tr>\n",
       "      <th id=\"T_66f6d_level0_row2\" class=\"row_heading level0 row2\" >std</th>\n",
       "      <td id=\"T_66f6d_row2_col0\" class=\"data row2 col0\" >1.741096</td>\n",
       "      <td id=\"T_66f6d_row2_col1\" class=\"data row2 col1\" >0.179060</td>\n",
       "      <td id=\"T_66f6d_row2_col2\" class=\"data row2 col2\" >0.194801</td>\n",
       "      <td id=\"T_66f6d_row2_col3\" class=\"data row2 col3\" >1.409928</td>\n",
       "      <td id=\"T_66f6d_row2_col4\" class=\"data row2 col4\" >0.047065</td>\n",
       "      <td id=\"T_66f6d_row2_col5\" class=\"data row2 col5\" >10.460157</td>\n",
       "      <td id=\"T_66f6d_row2_col6\" class=\"data row2 col6\" >32.895324</td>\n",
       "      <td id=\"T_66f6d_row2_col7\" class=\"data row2 col7\" >0.001887</td>\n",
       "      <td id=\"T_66f6d_row2_col8\" class=\"data row2 col8\" >0.154386</td>\n",
       "      <td id=\"T_66f6d_row2_col9\" class=\"data row2 col9\" >0.169507</td>\n",
       "      <td id=\"T_66f6d_row2_col10\" class=\"data row2 col10\" >1.065668</td>\n",
       "      <td id=\"T_66f6d_row2_col11\" class=\"data row2 col11\" >0.807569</td>\n",
       "    </tr>\n",
       "    <tr>\n",
       "      <th id=\"T_66f6d_level0_row3\" class=\"row_heading level0 row3\" >min</th>\n",
       "      <td id=\"T_66f6d_row3_col0\" class=\"data row3 col0\" >4.600000</td>\n",
       "      <td id=\"T_66f6d_row3_col1\" class=\"data row3 col1\" >0.120000</td>\n",
       "      <td id=\"T_66f6d_row3_col2\" class=\"data row3 col2\" >0.000000</td>\n",
       "      <td id=\"T_66f6d_row3_col3\" class=\"data row3 col3\" >0.900000</td>\n",
       "      <td id=\"T_66f6d_row3_col4\" class=\"data row3 col4\" >0.012000</td>\n",
       "      <td id=\"T_66f6d_row3_col5\" class=\"data row3 col5\" >1.000000</td>\n",
       "      <td id=\"T_66f6d_row3_col6\" class=\"data row3 col6\" >6.000000</td>\n",
       "      <td id=\"T_66f6d_row3_col7\" class=\"data row3 col7\" >0.990070</td>\n",
       "      <td id=\"T_66f6d_row3_col8\" class=\"data row3 col8\" >2.740000</td>\n",
       "      <td id=\"T_66f6d_row3_col9\" class=\"data row3 col9\" >0.330000</td>\n",
       "      <td id=\"T_66f6d_row3_col10\" class=\"data row3 col10\" >8.400000</td>\n",
       "      <td id=\"T_66f6d_row3_col11\" class=\"data row3 col11\" >3.000000</td>\n",
       "    </tr>\n",
       "    <tr>\n",
       "      <th id=\"T_66f6d_level0_row4\" class=\"row_heading level0 row4\" >25%</th>\n",
       "      <td id=\"T_66f6d_row4_col0\" class=\"data row4 col0\" >7.100000</td>\n",
       "      <td id=\"T_66f6d_row4_col1\" class=\"data row4 col1\" >0.390000</td>\n",
       "      <td id=\"T_66f6d_row4_col2\" class=\"data row4 col2\" >0.090000</td>\n",
       "      <td id=\"T_66f6d_row4_col3\" class=\"data row4 col3\" >1.900000</td>\n",
       "      <td id=\"T_66f6d_row4_col4\" class=\"data row4 col4\" >0.070000</td>\n",
       "      <td id=\"T_66f6d_row4_col5\" class=\"data row4 col5\" >7.000000</td>\n",
       "      <td id=\"T_66f6d_row4_col6\" class=\"data row4 col6\" >22.000000</td>\n",
       "      <td id=\"T_66f6d_row4_col7\" class=\"data row4 col7\" >0.995600</td>\n",
       "      <td id=\"T_66f6d_row4_col8\" class=\"data row4 col8\" >3.210000</td>\n",
       "      <td id=\"T_66f6d_row4_col9\" class=\"data row4 col9\" >0.550000</td>\n",
       "      <td id=\"T_66f6d_row4_col10\" class=\"data row4 col10\" >9.500000</td>\n",
       "      <td id=\"T_66f6d_row4_col11\" class=\"data row4 col11\" >5.000000</td>\n",
       "    </tr>\n",
       "    <tr>\n",
       "      <th id=\"T_66f6d_level0_row5\" class=\"row_heading level0 row5\" >50%</th>\n",
       "      <td id=\"T_66f6d_row5_col0\" class=\"data row5 col0\" >7.900000</td>\n",
       "      <td id=\"T_66f6d_row5_col1\" class=\"data row5 col1\" >0.520000</td>\n",
       "      <td id=\"T_66f6d_row5_col2\" class=\"data row5 col2\" >0.260000</td>\n",
       "      <td id=\"T_66f6d_row5_col3\" class=\"data row5 col3\" >2.200000</td>\n",
       "      <td id=\"T_66f6d_row5_col4\" class=\"data row5 col4\" >0.079000</td>\n",
       "      <td id=\"T_66f6d_row5_col5\" class=\"data row5 col5\" >14.000000</td>\n",
       "      <td id=\"T_66f6d_row5_col6\" class=\"data row5 col6\" >38.000000</td>\n",
       "      <td id=\"T_66f6d_row5_col7\" class=\"data row5 col7\" >0.996750</td>\n",
       "      <td id=\"T_66f6d_row5_col8\" class=\"data row5 col8\" >3.310000</td>\n",
       "      <td id=\"T_66f6d_row5_col9\" class=\"data row5 col9\" >0.620000</td>\n",
       "      <td id=\"T_66f6d_row5_col10\" class=\"data row5 col10\" >10.200000</td>\n",
       "      <td id=\"T_66f6d_row5_col11\" class=\"data row5 col11\" >6.000000</td>\n",
       "    </tr>\n",
       "    <tr>\n",
       "      <th id=\"T_66f6d_level0_row6\" class=\"row_heading level0 row6\" >75%</th>\n",
       "      <td id=\"T_66f6d_row6_col0\" class=\"data row6 col0\" >9.200000</td>\n",
       "      <td id=\"T_66f6d_row6_col1\" class=\"data row6 col1\" >0.640000</td>\n",
       "      <td id=\"T_66f6d_row6_col2\" class=\"data row6 col2\" >0.420000</td>\n",
       "      <td id=\"T_66f6d_row6_col3\" class=\"data row6 col3\" >2.600000</td>\n",
       "      <td id=\"T_66f6d_row6_col4\" class=\"data row6 col4\" >0.090000</td>\n",
       "      <td id=\"T_66f6d_row6_col5\" class=\"data row6 col5\" >21.000000</td>\n",
       "      <td id=\"T_66f6d_row6_col6\" class=\"data row6 col6\" >62.000000</td>\n",
       "      <td id=\"T_66f6d_row6_col7\" class=\"data row6 col7\" >0.997835</td>\n",
       "      <td id=\"T_66f6d_row6_col8\" class=\"data row6 col8\" >3.400000</td>\n",
       "      <td id=\"T_66f6d_row6_col9\" class=\"data row6 col9\" >0.730000</td>\n",
       "      <td id=\"T_66f6d_row6_col10\" class=\"data row6 col10\" >11.100000</td>\n",
       "      <td id=\"T_66f6d_row6_col11\" class=\"data row6 col11\" >6.000000</td>\n",
       "    </tr>\n",
       "    <tr>\n",
       "      <th id=\"T_66f6d_level0_row7\" class=\"row_heading level0 row7\" >max</th>\n",
       "      <td id=\"T_66f6d_row7_col0\" class=\"data row7 col0\" >15.900000</td>\n",
       "      <td id=\"T_66f6d_row7_col1\" class=\"data row7 col1\" >1.580000</td>\n",
       "      <td id=\"T_66f6d_row7_col2\" class=\"data row7 col2\" >1.000000</td>\n",
       "      <td id=\"T_66f6d_row7_col3\" class=\"data row7 col3\" >15.500000</td>\n",
       "      <td id=\"T_66f6d_row7_col4\" class=\"data row7 col4\" >0.611000</td>\n",
       "      <td id=\"T_66f6d_row7_col5\" class=\"data row7 col5\" >72.000000</td>\n",
       "      <td id=\"T_66f6d_row7_col6\" class=\"data row7 col6\" >289.000000</td>\n",
       "      <td id=\"T_66f6d_row7_col7\" class=\"data row7 col7\" >1.003690</td>\n",
       "      <td id=\"T_66f6d_row7_col8\" class=\"data row7 col8\" >4.010000</td>\n",
       "      <td id=\"T_66f6d_row7_col9\" class=\"data row7 col9\" >2.000000</td>\n",
       "      <td id=\"T_66f6d_row7_col10\" class=\"data row7 col10\" >14.900000</td>\n",
       "      <td id=\"T_66f6d_row7_col11\" class=\"data row7 col11\" >8.000000</td>\n",
       "    </tr>\n",
       "  </tbody>\n",
       "</table>\n"
      ],
      "text/plain": [
       "<pandas.io.formats.style.Styler at 0x21cc2a59f40>"
      ]
     },
     "execution_count": 7,
     "metadata": {},
     "output_type": "execute_result"
    }
   ],
   "source": [
    "data.describe().style.background_gradient(cmap = 'copper')"
   ]
  },
  {
   "cell_type": "code",
   "execution_count": 8,
   "id": "68e7e0e5",
   "metadata": {},
   "outputs": [
    {
     "data": {
      "text/plain": [
       "Index(['fixed acidity', 'volatile acidity', 'citric acid', 'residual sugar',\n",
       "       'chlorides', 'free sulfur dioxide', 'total sulfur dioxide', 'density',\n",
       "       'pH', 'sulphates', 'alcohol', 'quality'],\n",
       "      dtype='object')"
      ]
     },
     "execution_count": 8,
     "metadata": {},
     "output_type": "execute_result"
    }
   ],
   "source": [
    "data.columns"
   ]
  },
  {
   "cell_type": "code",
   "execution_count": 9,
   "id": "bdb6efd2",
   "metadata": {},
   "outputs": [
    {
     "data": {
      "text/plain": [
       "(1599, 12)"
      ]
     },
     "execution_count": 9,
     "metadata": {},
     "output_type": "execute_result"
    }
   ],
   "source": [
    "data.shape"
   ]
  },
  {
   "cell_type": "code",
   "execution_count": 10,
   "id": "d23216d9",
   "metadata": {},
   "outputs": [
    {
     "data": {
      "text/plain": [
       "<AxesSubplot:xlabel='quality', ylabel='count'>"
      ]
     },
     "execution_count": 10,
     "metadata": {},
     "output_type": "execute_result"
    },
    {
     "data": {
      "image/png": "[encoded data removed]",
      "text/plain": [
       "<Figure size 432x288 with 1 Axes>"
      ]
     },
     "metadata": {
      "needs_background": "light"
     },
     "output_type": "display_data"
    }
   ],
   "source": [
    "sns.countplot(data['quality'])"
   ]
  },
  {
   "cell_type": "code",
   "execution_count": 11,
   "id": "13219923",
   "metadata": {},
   "outputs": [
    {
     "data": {
      "text/plain": [
       "<AxesSubplot:xlabel='quality', ylabel='fixed acidity'>"
      ]
     },
     "execution_count": 11,
     "metadata": {},
     "output_type": "execute_result"
    },
    {
     "data": {
      "image/png": "[encoded data removed]",
      "text/plain": [
       "<Figure size 432x288 with 1 Axes>"
      ]
     },
     "metadata": {
      "needs_background": "light"
     },
     "output_type": "display_data"
    }
   ],
   "source": [
    "sns.barplot(data['quality'],data['fixed acidity'],data=data)"
   ]
  },
  {
   "cell_type": "code",
   "execution_count": 12,
   "id": "3e3c57f9",
   "metadata": {},
   "outputs": [
    {
     "data": {
      "text/plain": [
       "<AxesSubplot:xlabel='quality', ylabel='volatile acidity'>"
      ]
     },
     "execution_count": 12,
     "metadata": {},
     "output_type": "execute_result"
    },
    {
     "data": {
      "image/png": "[encoded data removed]",
      "text/plain": [
       "<Figure size 432x288 with 1 Axes>"
      ]
     },
     "metadata": {
      "needs_background": "light"
     },
     "output_type": "display_data"
    }
   ],
   "source": [
    "sns.barplot(data['quality'],data['volatile acidity'],data=data)"
   ]
  },
  {
   "cell_type": "code",
   "execution_count": 13,
   "id": "d2c31bdd",
   "metadata": {},
   "outputs": [
    {
     "data": {
      "text/plain": [
       "<AxesSubplot:xlabel='quality', ylabel='citric acid'>"
      ]
     },
     "execution_count": 13,
     "metadata": {},
     "output_type": "execute_result"
    },
    {
     "data": {
      "image/png": "[encoded data removed]",
      "text/plain": [
       "<Figure size 432x288 with 1 Axes>"
      ]
     },
     "metadata": {
      "needs_background": "light"
     },
     "output_type": "display_data"
    }
   ],
   "source": [
    "sns.barplot(data['quality'],data['citric acid'],data=data)"
   ]
  },
  {
   "cell_type": "code",
   "execution_count": 14,
   "id": "0118ba10",
   "metadata": {},
   "outputs": [
    {
     "data": {
      "text/plain": [
       "<AxesSubplot:xlabel='quality', ylabel='chlorides'>"
      ]
     },
     "execution_count": 14,
     "metadata": {},
     "output_type": "execute_result"
    },
    {
     "data": {
      "image/png": "[encoded data removed]",
      "text/plain": [
       "<Figure size 432x288 with 1 Axes>"
      ]
     },
     "metadata": {
      "needs_background": "light"
     },
     "output_type": "display_data"
    }
   ],
   "source": [
    "sns.barplot(data['quality'],data['chlorides'],data=data)"
   ]
  },
  {
   "cell_type": "code",
   "execution_count": 15,
   "id": "2d490b52",
   "metadata": {},
   "outputs": [
    {
     "data": {
      "text/plain": [
       "<AxesSubplot:xlabel='quality', ylabel='free sulfur dioxide'>"
      ]
     },
     "execution_count": 15,
     "metadata": {},
     "output_type": "execute_result"
    },
    {
     "data": {
      "image/png": "[encoded data removed]",
      "text/plain": [
       "<Figure size 432x288 with 1 Axes>"
      ]
     },
     "metadata": {
      "needs_background": "light"
     },
     "output_type": "display_data"
    }
   ],
   "source": [
    "sns.barplot(data['quality'],data['free sulfur dioxide'],data=data)"
   ]
  },
  {
   "cell_type": "code",
   "execution_count": 16,
   "id": "9aec1af9",
   "metadata": {},
   "outputs": [
    {
     "data": {
      "text/plain": [
       "<AxesSubplot:xlabel='quality', ylabel='total sulfur dioxide'>"
      ]
     },
     "execution_count": 16,
     "metadata": {},
     "output_type": "execute_result"
    },
    {
     "data": {
      "image/png": "[encoded data removed]",
      "text/plain": [
       "<Figure size 432x288 with 1 Axes>"
      ]
     },
     "metadata": {
      "needs_background": "light"
     },
     "output_type": "display_data"
    }
   ],
   "source": [
    "sns.barplot(data['quality'],data['total sulfur dioxide'],data=data)"
   ]
  },
  {
   "cell_type": "code",
   "execution_count": 17,
   "id": "61a9017d",
   "metadata": {},
   "outputs": [
    {
     "data": {
      "text/plain": [
       "<AxesSubplot:xlabel='quality', ylabel='density'>"
      ]
     },
     "execution_count": 17,
     "metadata": {},
     "output_type": "execute_result"
    },
    {
     "data": {
      "image/png": "[encoded data removed]",
      "text/plain": [
       "<Figure size 432x288 with 1 Axes>"
      ]
     },
     "metadata": {
      "needs_background": "light"
     },
     "output_type": "display_data"
    }
   ],
   "source": [
    "sns.barplot(data['quality'],data['density'],data=data)"
   ]
  },
  {
   "cell_type": "code",
   "execution_count": 18,
   "id": "1f485b0c",
   "metadata": {},
   "outputs": [
    {
     "data": {
      "text/plain": [
       "<AxesSubplot:xlabel='quality', ylabel='sulphates'>"
      ]
     },
     "execution_count": 18,
     "metadata": {},
     "output_type": "execute_result"
    },
    {
     "data": {
      "image/png": "[encoded data removed]",
      "text/plain": [
       "<Figure size 432x288 with 1 Axes>"
      ]
     },
     "metadata": {
      "needs_background": "light"
     },
     "output_type": "display_data"
    }
   ],
   "source": [
    "sns.barplot(data['quality'],data['sulphates'],data=data)"
   ]
  },
  {
   "cell_type": "code",
   "execution_count": 19,
   "id": "ca975ae7",
   "metadata": {},
   "outputs": [
    {
     "data": {
      "text/plain": [
       "<AxesSubplot:xlabel='quality', ylabel='pH'>"
      ]
     },
     "execution_count": 19,
     "metadata": {},
     "output_type": "execute_result"
    },
    {
     "data": {
      "image/png": "[encoded data removed]",
      "text/plain": [
       "<Figure size 432x288 with 1 Axes>"
      ]
     },
     "metadata": {
      "needs_background": "light"
     },
     "output_type": "display_data"
    }
   ],
   "source": [
    "sns.barplot(data['quality'],data['pH'],data=data)"
   ]
  },
  {
   "cell_type": "code",
   "execution_count": 20,
   "id": "2eca8491",
   "metadata": {},
   "outputs": [
    {
     "data": {
      "text/plain": [
       "<AxesSubplot:xlabel='pH', ylabel='Count'>"
      ]
     },
     "execution_count": 20,
     "metadata": {},
     "output_type": "execute_result"
    },
    {
     "data": {
      "image/png": "[encoded data removed]",
      "text/plain": [
       "<Figure size 432x288 with 1 Axes>"
      ]
     },
     "metadata": {
      "needs_background": "light"
     },
     "output_type": "display_data"
    }
   ],
   "source": [
    "sns.histplot(data['pH'])"
   ]
  },
  {
   "cell_type": "code",
   "execution_count": 21,
   "id": "d71397bd",
   "metadata": {},
   "outputs": [
    {
     "data": {
      "text/plain": [
       "<AxesSubplot:>"
      ]
     },
     "execution_count": 21,
     "metadata": {},
     "output_type": "execute_result"
    },
    {
     "data": {
      "image/png": "[encoded data removed]",
      "text/plain": [
       "<Figure size 432x288 with 2 Axes>"
      ]
     },
     "metadata": {
      "needs_background": "light"
     },
     "output_type": "display_data"
    }
   ],
   "source": [
    "sns.heatmap(data.corr(),annot=True)"
   ]
  },
  {
   "cell_type": "code",
   "execution_count": 22,
   "id": "45bdabf5",
   "metadata": {},
   "outputs": [
    {
     "data": {
      "image/png": "[encoded data removed]",
      "text/plain": [
       "<Figure size 720x720 with 12 Axes>"
      ]
     },
     "metadata": {
      "needs_background": "light"
     },
     "output_type": "display_data"
    }
   ],
   "source": [
    "data.hist(figsize=(10,10),bins=40)\n",
    "plt.show()"
   ]
  },
  {
   "cell_type": "code",
   "execution_count": 23,
   "id": "2d2bffe6",
   "metadata": {},
   "outputs": [],
   "source": [
    "x=data.drop('quality',axis=1)\n",
    "y=data['quality']"
   ]
  },
  {
   "cell_type": "markdown",
   "id": "06b862de",
   "metadata": {},
   "source": [
    "## balancing the target "
   ]
  },
  {
   "cell_type": "code",
   "execution_count": 24,
   "id": "009e9e18",
   "metadata": {},
   "outputs": [],
   "source": [
    "# for balancing the target \n",
    "from imblearn.over_sampling import RandomOverSampler\n",
    "oversample = RandomOverSampler(sampling_strategy='not majority')\n",
    "x_over, y_over = oversample.fit_resample(x, y)"
   ]
  },
  {
   "cell_type": "code",
   "execution_count": 25,
   "id": "1afee6e5",
   "metadata": {},
   "outputs": [
    {
     "data": {
      "text/plain": [
       "<AxesSubplot:xlabel='quality', ylabel='count'>"
      ]
     },
     "execution_count": 25,
     "metadata": {},
     "output_type": "execute_result"
    },
    {
     "data": {
      "image/png": "[encoded data removed]",
      "text/plain": [
       "<Figure size 432x288 with 1 Axes>"
      ]
     },
     "metadata": {
      "needs_background": "light"
     },
     "output_type": "display_data"
    }
   ],
   "source": [
    "sns.countplot(y_over)"
   ]
  },
  {
   "cell_type": "markdown",
   "id": "d9f9fac0",
   "metadata": {},
   "source": [
    "## Spliting the data"
   ]
  },
  {
   "cell_type": "code",
   "execution_count": 26,
   "id": "4ca4f388",
   "metadata": {},
   "outputs": [],
   "source": [
    "from sklearn.model_selection import train_test_split\n",
    "x_train,x_test,y_train,y_test=train_test_split(x_over,y_over,test_size=0.2,random_state=48)"
   ]
  },
  {
   "cell_type": "markdown",
   "id": "848facc3",
   "metadata": {},
   "source": [
    "## Dimensionality Reduction"
   ]
  },
  {
   "cell_type": "code",
   "execution_count": 27,
   "id": "07c28dec",
   "metadata": {},
   "outputs": [],
   "source": [
    "# # Dimensionality Reduction\n",
    "# from sklearn.preprocessing import StandardScaler\n",
    "# scaler=StandardScaler()\n",
    "# x_train=scaler.fit_transform(x_train)\n",
    "# x_test =scaler.transform(x_test) "
   ]
  },
  {
   "cell_type": "code",
   "execution_count": 28,
   "id": "0f953c5c",
   "metadata": {},
   "outputs": [
    {
     "name": "stdout",
     "output_type": "stream",
     "text": [
      "(3268, 11) (3268,) (818, 11) (818,)\n"
     ]
    }
   ],
   "source": [
    "print(x_train.shape,y_train.shape,x_test.shape,y_test.shape)"
   ]
  },
  {
   "cell_type": "markdown",
   "id": "7351f678",
   "metadata": {},
   "source": [
    "## RandomForestClassifier"
   ]
  },
  {
   "cell_type": "code",
   "execution_count": 29,
   "id": "844fde60",
   "metadata": {},
   "outputs": [
    {
     "data": {
      "text/plain": [
       "RandomForestClassifier(n_estimators=150, n_jobs=-1)"
      ]
     },
     "execution_count": 29,
     "metadata": {},
     "output_type": "execute_result"
    }
   ],
   "source": [
    "from sklearn.ensemble import RandomForestClassifier , RandomForestRegressor\n",
    "from sklearn.metrics import classification_report , confusion_matrix\n",
    "model = RandomForestClassifier(n_estimators=150,n_jobs=-1)\n",
    "model.fit(x_train,y_train)"
   ]
  },
  {
   "cell_type": "code",
   "execution_count": 30,
   "id": "4a95ba8c",
   "metadata": {},
   "outputs": [],
   "source": [
    "y_pred_test = model.predict(x_test)"
   ]
  },
  {
   "cell_type": "code",
   "execution_count": 31,
   "id": "021a3954",
   "metadata": {},
   "outputs": [
    {
     "name": "stdout",
     "output_type": "stream",
     "text": [
      "              precision    recall  f1-score   support\n",
      "\n",
      "           3       0.99      1.00      1.00       145\n",
      "           4       0.97      1.00      0.98       121\n",
      "           5       0.82      0.71      0.76       137\n",
      "           6       0.74      0.77      0.76       133\n",
      "           7       0.92      0.97      0.95       135\n",
      "           8       0.99      1.00      0.99       147\n",
      "\n",
      "    accuracy                           0.91       818\n",
      "   macro avg       0.90      0.91      0.91       818\n",
      "weighted avg       0.91      0.91      0.91       818\n",
      "\n"
     ]
    }
   ],
   "source": [
    "print(classification_report(y_test,y_pred_test))"
   ]
  },
  {
   "cell_type": "code",
   "execution_count": 32,
   "id": "15ca38d8",
   "metadata": {},
   "outputs": [
    {
     "data": {
      "text/plain": [
       "array([[145,   0,   0,   0,   0,   0],\n",
       "       [  0, 121,   0,   0,   0,   0],\n",
       "       [  1,   3,  97,  33,   3,   0],\n",
       "       [  0,   1,  21, 102,   8,   1],\n",
       "       [  0,   0,   1,   2, 131,   1],\n",
       "       [  0,   0,   0,   0,   0, 147]], dtype=int64)"
      ]
     },
     "execution_count": 32,
     "metadata": {},
     "output_type": "execute_result"
    }
   ],
   "source": [
    "confusion_matrix(y_test,y_pred_test)"
   ]
  },
  {
   "cell_type": "code",
   "execution_count": 33,
   "id": "f006109b",
   "metadata": {},
   "outputs": [
    {
     "data": {
      "text/plain": [
       "<AxesSubplot:>"
      ]
     },
     "execution_count": 33,
     "metadata": {},
     "output_type": "execute_result"
    },
    {
     "data": {
      "image/png": "[encoded data removed]",
      "text/plain": [
       "<Figure size 432x288 with 2 Axes>"
      ]
     },
     "metadata": {
      "needs_background": "light"
     },
     "output_type": "display_data"
    }
   ],
   "source": [
    "sns.heatmap(confusion_matrix(y_test,y_pred_test),annot=True)"
   ]
  },
  {
   "cell_type": "markdown",
   "id": "6187ea5b",
   "metadata": {},
   "source": [
    "## RandomisedSearchCV"
   ]
  },
  {
   "cell_type": "code",
   "execution_count": 34,
   "id": "d89a407a",
   "metadata": {},
   "outputs": [
    {
     "data": {
      "text/plain": [
       "RandomizedSearchCV(cv=10, estimator=RandomForestRegressor(), n_jobs=-1,\n",
       "                   param_distributions={'bootstrap': [True],\n",
       "                                        'max_depth': [3, 4, 5, 6, 7, 8, 9, 10,\n",
       "                                                      11, 12, 13, 14, 15, 16,\n",
       "                                                      17, 18, 19],\n",
       "                                        'max_features': ['auto', 'log2'],\n",
       "                                        'n_estimators': [3, 4, 5, 6, 7, 8, 9,\n",
       "                                                         10, 11, 12, 13, 14, 15,\n",
       "                                                         16, 17, 18, 19, 20, 21,\n",
       "                                                         22, 23, 24, 25, 26, 27,\n",
       "                                                         28, 29, 30, 31, 32, ...]})"
      ]
     },
     "execution_count": 34,
     "metadata": {},
     "output_type": "execute_result"
    }
   ],
   "source": [
    "from sklearn.model_selection import RandomizedSearchCV\n",
    "parameter = {   'bootstrap'   : [True],\n",
    "                'max_depth'   : [i for i in range(3,20)],\n",
    "#                 'criterion'   : ['gini'],\n",
    "                'n_estimators': [i for i in range(3,100)],\n",
    "                'max_features': ['auto', 'log2']    }\n",
    "randomcv = RandomizedSearchCV(RandomForestRegressor(),parameter,cv= 10 , n_jobs=-1)\n",
    "randomcv.fit(x_train,y_train)"
   ]
  },
  {
   "cell_type": "code",
   "execution_count": 35,
   "id": "51c3e7f9",
   "metadata": {},
   "outputs": [
    {
     "data": {
      "text/plain": [
       "0.972153605754593"
      ]
     },
     "execution_count": 35,
     "metadata": {},
     "output_type": "execute_result"
    }
   ],
   "source": [
    "randomcv.best_score_"
   ]
  },
  {
   "cell_type": "code",
   "execution_count": 36,
   "id": "f9777bab",
   "metadata": {},
   "outputs": [
    {
     "data": {
      "text/plain": [
       "{'n_estimators': 99,\n",
       " 'max_features': 'log2',\n",
       " 'max_depth': 17,\n",
       " 'bootstrap': True}"
      ]
     },
     "execution_count": 36,
     "metadata": {},
     "output_type": "execute_result"
    }
   ],
   "source": [
    "randomcv.best_params_"
   ]
  },
  {
   "cell_type": "code",
   "execution_count": 37,
   "id": "df7d947f",
   "metadata": {},
   "outputs": [
    {
     "data": {
      "text/plain": [
       "RandomForestRegressor(max_depth=17, max_features='log2', n_estimators=99)"
      ]
     },
     "execution_count": 37,
     "metadata": {},
     "output_type": "execute_result"
    }
   ],
   "source": [
    "randomcv.best_estimator_"
   ]
  },
  {
   "cell_type": "code",
   "execution_count": 44,
   "id": "124e422e",
   "metadata": {},
   "outputs": [],
   "source": [
    "import pickle\n",
    "\n",
    "pickle.dump(model,open('model.pkl','wb'))"
   ]
  },
  {
   "cell_type": "code",
   "execution_count": 39,
   "id": "a8cdce1b",
   "metadata": {},
   "outputs": [
    {
     "name": "stdout",
     "output_type": "stream",
     "text": [
      "[5]\n"
     ]
    }
   ],
   "source": [
    "print(model.predict([[7.3,0.5,0.4,1.2,0.065,15.0,21.0,0.96,3.9,0.47,1]]))"
   ]
  },
  {
   "cell_type": "markdown",
   "id": "3f2e956e",
   "metadata": {},
   "source": [
    "## Voting CLassifier"
   ]
  },
  {
   "cell_type": "code",
   "execution_count": 40,
   "id": "7a301d49",
   "metadata": {},
   "outputs": [
    {
     "name": "stderr",
     "output_type": "stream",
     "text": [
      "[Parallel(n_jobs=1)]: Using backend SequentialBackend with 1 concurrent workers.\n",
      "[Parallel(n_jobs=1)]: Done  10 out of  10 | elapsed:    0.0s finished\n"
     ]
    },
    {
     "data": {
      "text/plain": [
       "VotingClassifier(estimators=[('dtc', DecisionTreeClassifier(random_state=0)),\n",
       "                             ('lr', LogisticRegression()),\n",
       "                             ('rfc',\n",
       "                              RandomForestClassifier(n_estimators=10,\n",
       "                                                     random_state=0,\n",
       "                                                     verbose=1)),\n",
       "                             ('gsnb', GaussianNB()),\n",
       "                             ('knc', KNeighborsClassifier()),\n",
       "                             ('svc', SVC(probability=True))])"
      ]
     },
     "execution_count": 40,
     "metadata": {},
     "output_type": "execute_result"
    }
   ],
   "source": [
    "from sklearn.linear_model import LogisticRegression\n",
    "from sklearn.naive_bayes import GaussianNB\n",
    "from sklearn.ensemble import VotingClassifier \n",
    "from sklearn.neighbors import KNeighborsClassifier\n",
    "from sklearn.tree import DecisionTreeClassifier\n",
    "from sklearn.svm import SVC \n",
    "from sklearn.metrics import accuracy_score , classification_report\n",
    "\n",
    "vc_hard = VotingClassifier(\n",
    "              estimators = [('dtc',  DecisionTreeClassifier(random_state=0)),\n",
    "                            ('lr', LogisticRegression()),\n",
    "                            ('rfc', RandomForestClassifier(n_estimators=10,verbose=1,random_state=0)),\n",
    "                            ('gsnb', GaussianNB()),\n",
    "                            ('knc', KNeighborsClassifier()),\n",
    "                            ('svc', SVC(probability=True))],\n",
    "                           voting='hard')\n",
    "\n",
    "vc_hard.fit(x_train,y_train)"
   ]
  },
  {
   "cell_type": "code",
   "execution_count": 41,
   "id": "95bb6709",
   "metadata": {},
   "outputs": [
    {
     "name": "stderr",
     "output_type": "stream",
     "text": [
      "[Parallel(n_jobs=1)]: Using backend SequentialBackend with 1 concurrent workers.\n",
      "[Parallel(n_jobs=1)]: Done  10 out of  10 | elapsed:    0.0s finished\n"
     ]
    },
    {
     "data": {
      "text/plain": [
       "<AxesSubplot:ylabel='count'>"
      ]
     },
     "execution_count": 41,
     "metadata": {},
     "output_type": "execute_result"
    },
    {
     "data": {
      "image/png": "[encoded data removed]",
      "text/plain": [
       "<Figure size 432x288 with 1 Axes>"
      ]
     },
     "metadata": {
      "needs_background": "light"
     },
     "output_type": "display_data"
    }
   ],
   "source": [
    "y_test_pred_vch = vc_hard.predict(x_test)\n",
    "sns.countplot(y_test_pred_vch)"
   ]
  },
  {
   "cell_type": "code",
   "execution_count": 42,
   "id": "303becaf",
   "metadata": {},
   "outputs": [
    {
     "data": {
      "text/plain": [
       "array([[145,   0,   0,   0,   0,   0],\n",
       "       [  8, 113,   0,   0,   0,   0],\n",
       "       [ 11,  12,  79,  30,   4,   1],\n",
       "       [  9,   7,  29,  70,  14,   4],\n",
       "       [  0,   1,   0,  20, 113,   1],\n",
       "       [  0,   0,   0,   0,   0, 147]], dtype=int64)"
      ]
     },
     "execution_count": 42,
     "metadata": {},
     "output_type": "execute_result"
    }
   ],
   "source": [
    "confusion_matrix(y_test,y_test_pred_vch)"
   ]
  },
  {
   "cell_type": "code",
   "execution_count": 43,
   "id": "b712039b",
   "metadata": {},
   "outputs": [
    {
     "name": "stdout",
     "output_type": "stream",
     "text": [
      "              precision    recall  f1-score   support\n",
      "\n",
      "           3       0.84      1.00      0.91       145\n",
      "           4       0.85      0.93      0.89       121\n",
      "           5       0.73      0.58      0.64       137\n",
      "           6       0.58      0.53      0.55       133\n",
      "           7       0.86      0.84      0.85       135\n",
      "           8       0.96      1.00      0.98       147\n",
      "\n",
      "    accuracy                           0.82       818\n",
      "   macro avg       0.80      0.81      0.80       818\n",
      "weighted avg       0.81      0.82      0.81       818\n",
      "\n"
     ]
    }
   ],
   "source": [
    "print(classification_report(y_test, y_test_pred_vch))"
   ]
  }
 ],
 "metadata": {
  "kernelspec": {
   "display_name": "Python 3 (ipykernel)",
   "language": "python",
   "name": "python3"
  },
  "language_info": {
   "codemirror_mode": {
    "name": "ipython",
    "version": 3
   },
   "file_extension": ".py",
   "mimetype": "text/x-python",
   "name": "python",
   "nbconvert_exporter": "python",
   "pygments_lexer": "ipython3",
   "version": "3.9.12"
  },
  "vscode": {
   "interpreter": {
    "hash": "5237f4390cecf1ee27a7bdb68146585fbbfa122581a8cad2312bb50cae4cf900"
   }
  }
 },
 "nbformat": 4,
 "nbformat_minor": 5
}
